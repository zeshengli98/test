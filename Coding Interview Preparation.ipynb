{
 "cells": [
  {
   "cell_type": "markdown",
   "id": "1ef59cd3",
   "metadata": {},
   "source": [
    "## preparation summary\n",
    "·Algorithms\n",
    "\n",
    "    -Sorting\n",
    "    -Searching\n",
    "    -\n",
    "\n",
    "·Basic method preparation\n",
    "\n",
    "    -Read from excel/csv\n",
    "    -split strings\n",
    "    -Numpy array opearation\n",
    "    -Data analysis in Pandas\n",
    "·Basic data structure\n",
    "    \n",
    "    -Array\n",
    "        *bisect\n",
    "\n",
    "    -List\n",
    "        *Merge two list\n",
    "        *Sorting\n",
    "        *Find Max/2nd Max/Min/2nd Min\n",
    "        \n",
    "    \n",
    "    -DataFrame\n",
    "    \n",
    "    -Dict\n",
    "    \n",
    "·time series prediction\n",
    "\n",
    "    \n",
    "    \n",
    "    \n",
    "    \n"
   ]
  },
  {
   "cell_type": "code",
   "execution_count": 342,
   "id": "c2cc52fd",
   "metadata": {},
   "outputs": [],
   "source": [
    "import numpy as np \n",
    "import pandas as pd \n",
    "import matplotlib.pyplot as plt\n",
    "from pandas.plotting import lag_plot\n",
    "import datetime\n",
    "from statsmodels.tsa.arima_model import ARIMA\n",
    "from sklearn.metrics import mean_squared_error\n",
    "import warnings\n",
    "warnings.filterwarnings(\"ignore\")\n",
    "\n"
   ]
  },
  {
   "cell_type": "markdown",
   "id": "c4973f94",
   "metadata": {},
   "source": [
    "# Numpy"
   ]
  },
  {
   "cell_type": "code",
   "execution_count": 75,
   "id": "d04921d0",
   "metadata": {},
   "outputs": [
    {
     "name": "stdout",
     "output_type": "stream",
     "text": [
      "x2 shape: (3, 4)\n",
      "x2 size:  12\n"
     ]
    },
    {
     "data": {
      "text/plain": [
       "array([[7, 7, 1, 1],\n",
       "       [3, 5, 4, 3],\n",
       "       [3, 0, 4, 2]])"
      ]
     },
     "execution_count": 75,
     "metadata": {},
     "output_type": "execute_result"
    }
   ],
   "source": [
    "# random simulation\n",
    "x1 = np.random.randint(10, size=6)  # One-dimensional array\n",
    "x2 = np.random.randint(10, size=(3, 4))  # Three-dimensional array\n",
    "print(\"x2 shape:\", x2.shape)\n",
    "print(\"x2 size: \", x2.size)\n",
    "x2"
   ]
  },
  {
   "cell_type": "code",
   "execution_count": 76,
   "id": "dca2901a",
   "metadata": {},
   "outputs": [
    {
     "name": "stdout",
     "output_type": "stream",
     "text": [
      "[[1 2 3]\n",
      " [4 5 6]\n",
      " [7 8 9]]\n"
     ]
    }
   ],
   "source": [
    "# subarray\n",
    "x = np.arange(10)\n",
    "x[:5]  # first five elements\n",
    "x[5:]  # elements after index 5\n",
    "x[::2]  # every other element\n",
    "x[1:6:2]  # every other element, starting at index 1, ending at 6, every 2 element\n",
    "x[::-1]  # all elements, every -1 elements, reversed\n",
    "\n",
    "\n",
    "# multi-demensional subarrays\n",
    "x2\n",
    "x2[:2, :3]\n",
    "x2[:, ::2]  # all rows, every other column\n",
    "x2[::-1, ::-1] # reverse all rows and columns\n",
    "\n",
    "grid = np.arange(1, 10).reshape((3, 3)) #reshape the array\n",
    "print(grid)"
   ]
  },
  {
   "cell_type": "code",
   "execution_count": 78,
   "id": "d0fd0c60",
   "metadata": {},
   "outputs": [
    {
     "name": "stdout",
     "output_type": "stream",
     "text": [
      "[[1 2 3 1 2 3]\n",
      " [4 5 6 4 5 6]]\n",
      "[1 2 3] [99 99] [3 2 1]\n"
     ]
    }
   ],
   "source": [
    "# Concatenation and Splitting of arrays\n",
    "x = np.array([1, 2, 3])\n",
    "y = np.array([3, 2, 1])\n",
    "xy = np.concatenate([x, y])\n",
    "\n",
    "grid = np.array([[1, 2, 3],\n",
    "                 [4, 5, 6]])\n",
    "\n",
    "print(np.concatenate([grid, grid],axis=1)) # concatenate along the second axis=1(row combination)\n",
    "\n",
    "x = [1, 2, 3, 99, 99, 3, 2, 1]\n",
    "x1, x2, x3 = np.split(x, [3, 5]) # split the list into array, index number is 3, 5\n",
    "print(x1, x2, x3)"
   ]
  },
  {
   "cell_type": "code",
   "execution_count": 83,
   "id": "0fa7e0d9",
   "metadata": {},
   "outputs": [
    {
     "data": {
      "text/plain": [
       "(365,)"
      ]
     },
     "execution_count": 83,
     "metadata": {},
     "output_type": "execute_result"
    }
   ],
   "source": [
    "import pandas as pd\n",
    "rainfall = pd.read_csv('data/Seattle2014.csv')['PRCP'].values\n",
    "inches = rainfall / 254.0  # 1/10mm -> inches\n",
    "inches.shape\n"
   ]
  },
  {
   "cell_type": "code",
   "execution_count": null,
   "id": "249e21a2",
   "metadata": {},
   "outputs": [],
   "source": []
  },
  {
   "cell_type": "code",
   "execution_count": 90,
   "id": "f271ac8a",
   "metadata": {},
   "outputs": [
    {
     "name": "stdout",
     "output_type": "stream",
     "text": [
      "[1 2 3 4 5]\n",
      "[1 0 3 2 4]\n"
     ]
    }
   ],
   "source": [
    "x = np.array([2, 1, 4, 3, 5])\n",
    "x.sort()\n",
    "print(x)\n",
    "\n",
    "x = np.array([2, 1, 4, 3, 5])\n",
    "i = np.argsort(x)# return the indices of the sorted elements\n",
    "print(i)"
   ]
  },
  {
   "cell_type": "markdown",
   "id": "90724f43",
   "metadata": {},
   "source": [
    "# Pandas"
   ]
  },
  {
   "cell_type": "code",
   "execution_count": 91,
   "id": "fd059eaf",
   "metadata": {},
   "outputs": [
    {
     "data": {
      "text/plain": [
       "California    38332521\n",
       "Texas         26448193\n",
       "New York      19651127\n",
       "Florida       19552860\n",
       "Illinois      12882135\n",
       "dtype: int64"
      ]
     },
     "execution_count": 91,
     "metadata": {},
     "output_type": "execute_result"
    }
   ],
   "source": [
    "# Series object\n",
    "population_dict = {'California': 38332521,\n",
    "                   'Texas': 26448193,\n",
    "                   'New York': 19651127,\n",
    "                   'Florida': 19552860,\n",
    "                   'Illinois': 12882135}\n",
    "population = pd.Series(population_dict)\n",
    "population"
   ]
  },
  {
   "cell_type": "code",
   "execution_count": 93,
   "id": "ce141c57",
   "metadata": {},
   "outputs": [
    {
     "data": {
      "text/html": [
       "<div>\n",
       "<style scoped>\n",
       "    .dataframe tbody tr th:only-of-type {\n",
       "        vertical-align: middle;\n",
       "    }\n",
       "\n",
       "    .dataframe tbody tr th {\n",
       "        vertical-align: top;\n",
       "    }\n",
       "\n",
       "    .dataframe thead th {\n",
       "        text-align: right;\n",
       "    }\n",
       "</style>\n",
       "<table border=\"1\" class=\"dataframe\">\n",
       "  <thead>\n",
       "    <tr style=\"text-align: right;\">\n",
       "      <th></th>\n",
       "      <th>population</th>\n",
       "      <th>area</th>\n",
       "    </tr>\n",
       "  </thead>\n",
       "  <tbody>\n",
       "    <tr>\n",
       "      <th>California</th>\n",
       "      <td>38332521</td>\n",
       "      <td>423967</td>\n",
       "    </tr>\n",
       "    <tr>\n",
       "      <th>Texas</th>\n",
       "      <td>26448193</td>\n",
       "      <td>695662</td>\n",
       "    </tr>\n",
       "    <tr>\n",
       "      <th>New York</th>\n",
       "      <td>19651127</td>\n",
       "      <td>141297</td>\n",
       "    </tr>\n",
       "    <tr>\n",
       "      <th>Florida</th>\n",
       "      <td>19552860</td>\n",
       "      <td>170312</td>\n",
       "    </tr>\n",
       "    <tr>\n",
       "      <th>Illinois</th>\n",
       "      <td>12882135</td>\n",
       "      <td>149995</td>\n",
       "    </tr>\n",
       "  </tbody>\n",
       "</table>\n",
       "</div>"
      ],
      "text/plain": [
       "            population    area\n",
       "California    38332521  423967\n",
       "Texas         26448193  695662\n",
       "New York      19651127  141297\n",
       "Florida       19552860  170312\n",
       "Illinois      12882135  149995"
      ]
     },
     "execution_count": 93,
     "metadata": {},
     "output_type": "execute_result"
    }
   ],
   "source": [
    "# DataFrame object\n",
    "area_dict = {'California': 423967, 'Texas': 695662, 'New York': 141297,\n",
    "             'Florida': 170312, 'Illinois': 149995}\n",
    "area = pd.Series(area_dict)\n",
    "area\n",
    "\n",
    "states = pd.DataFrame({'population': population,\n",
    "                       'area': area})\n",
    "# states.index\n",
    "# states.columns\n",
    "# DataFrame.index\n",
    "# DataFrame.columns\n",
    "# DataFrame.values\n",
    "# DataFrame.shape\n"
   ]
  },
  {
   "cell_type": "code",
   "execution_count": 128,
   "id": "8f715ee9",
   "metadata": {},
   "outputs": [
    {
     "data": {
      "text/html": [
       "<div>\n",
       "<style scoped>\n",
       "    .dataframe tbody tr th:only-of-type {\n",
       "        vertical-align: middle;\n",
       "    }\n",
       "\n",
       "    .dataframe tbody tr th {\n",
       "        vertical-align: top;\n",
       "    }\n",
       "\n",
       "    .dataframe thead th {\n",
       "        text-align: right;\n",
       "    }\n",
       "</style>\n",
       "<table border=\"1\" class=\"dataframe\">\n",
       "  <thead>\n",
       "    <tr style=\"text-align: right;\">\n",
       "      <th></th>\n",
       "      <th>population</th>\n",
       "    </tr>\n",
       "  </thead>\n",
       "  <tbody>\n",
       "    <tr>\n",
       "      <th>California</th>\n",
       "      <td>38332521</td>\n",
       "    </tr>\n",
       "  </tbody>\n",
       "</table>\n",
       "</div>"
      ],
      "text/plain": [
       "            population\n",
       "California    38332521"
      ]
     },
     "metadata": {},
     "output_type": "display_data"
    },
    {
     "data": {
      "text/html": [
       "<div>\n",
       "<style scoped>\n",
       "    .dataframe tbody tr th:only-of-type {\n",
       "        vertical-align: middle;\n",
       "    }\n",
       "\n",
       "    .dataframe tbody tr th {\n",
       "        vertical-align: top;\n",
       "    }\n",
       "\n",
       "    .dataframe thead th {\n",
       "        text-align: right;\n",
       "    }\n",
       "</style>\n",
       "<table border=\"1\" class=\"dataframe\">\n",
       "  <thead>\n",
       "    <tr style=\"text-align: right;\">\n",
       "      <th></th>\n",
       "      <th>population</th>\n",
       "      <th>area</th>\n",
       "    </tr>\n",
       "  </thead>\n",
       "  <tbody>\n",
       "    <tr>\n",
       "      <th>California</th>\n",
       "      <td>38332521</td>\n",
       "      <td>423967</td>\n",
       "    </tr>\n",
       "    <tr>\n",
       "      <th>Texas</th>\n",
       "      <td>26448193</td>\n",
       "      <td>695662</td>\n",
       "    </tr>\n",
       "    <tr>\n",
       "      <th>New York</th>\n",
       "      <td>19651127</td>\n",
       "      <td>141297</td>\n",
       "    </tr>\n",
       "  </tbody>\n",
       "</table>\n",
       "</div>"
      ],
      "text/plain": [
       "            population    area\n",
       "California    38332521  423967\n",
       "Texas         26448193  695662\n",
       "New York      19651127  141297"
      ]
     },
     "metadata": {},
     "output_type": "display_data"
    }
   ],
   "source": [
    "# First, the loc attribute allows indexing and slicing that always references the explicit index:\n",
    "\n",
    "display(states.loc[:\"California\",:\"population\"]) # loc looks for index name\n",
    "display(states.iloc[:3,:2]) #iloc looks for Python-style index [rows, columns]"
   ]
  },
  {
   "cell_type": "code",
   "execution_count": 134,
   "id": "8dad3893",
   "metadata": {},
   "outputs": [
    {
     "data": {
      "text/html": [
       "<div>\n",
       "<style scoped>\n",
       "    .dataframe tbody tr th:only-of-type {\n",
       "        vertical-align: middle;\n",
       "    }\n",
       "\n",
       "    .dataframe tbody tr th {\n",
       "        vertical-align: top;\n",
       "    }\n",
       "\n",
       "    .dataframe thead th {\n",
       "        text-align: right;\n",
       "    }\n",
       "</style>\n",
       "<table border=\"1\" class=\"dataframe\">\n",
       "  <thead>\n",
       "    <tr style=\"text-align: right;\">\n",
       "      <th></th>\n",
       "      <th>0</th>\n",
       "      <th>1</th>\n",
       "      <th>2</th>\n",
       "    </tr>\n",
       "  </thead>\n",
       "  <tbody>\n",
       "    <tr>\n",
       "      <th>0</th>\n",
       "      <td>1.0</td>\n",
       "      <td>NaN</td>\n",
       "      <td>2</td>\n",
       "    </tr>\n",
       "    <tr>\n",
       "      <th>1</th>\n",
       "      <td>2.0</td>\n",
       "      <td>3.0</td>\n",
       "      <td>5</td>\n",
       "    </tr>\n",
       "    <tr>\n",
       "      <th>2</th>\n",
       "      <td>2.0</td>\n",
       "      <td>4.0</td>\n",
       "      <td>6</td>\n",
       "    </tr>\n",
       "  </tbody>\n",
       "</table>\n",
       "</div>"
      ],
      "text/plain": [
       "     0    1  2\n",
       "0  1.0  NaN  2\n",
       "1  2.0  3.0  5\n",
       "2  2.0  4.0  6"
      ]
     },
     "execution_count": 134,
     "metadata": {},
     "output_type": "execute_result"
    }
   ],
   "source": [
    "#filling NAN\n",
    "data = pd.Series([1, np.nan, 2, None, 3], index=list('abcde'))\n",
    "data\n",
    "\n",
    "# forward-fill\n",
    "data.fillna(method='ffill')\n",
    "data.fillna(method='bfill')\n",
    "\n",
    "df = pd.DataFrame([[1,      np.nan, 2],\n",
    "                   [2,      3,      5],\n",
    "                   [np.nan, 4,      6]])\n",
    "df.fillna(method='ffill', axis=0)"
   ]
  },
  {
   "cell_type": "code",
   "execution_count": 149,
   "id": "521e517a",
   "metadata": {},
   "outputs": [
    {
     "data": {
      "text/html": [
       "<div>\n",
       "<style scoped>\n",
       "    .dataframe tbody tr th:only-of-type {\n",
       "        vertical-align: middle;\n",
       "    }\n",
       "\n",
       "    .dataframe tbody tr th {\n",
       "        vertical-align: top;\n",
       "    }\n",
       "\n",
       "    .dataframe thead th {\n",
       "        text-align: right;\n",
       "    }\n",
       "</style>\n",
       "<table border=\"1\" class=\"dataframe\">\n",
       "  <thead>\n",
       "    <tr style=\"text-align: right;\">\n",
       "      <th></th>\n",
       "      <th>A</th>\n",
       "      <th>B</th>\n",
       "    </tr>\n",
       "  </thead>\n",
       "  <tbody>\n",
       "    <tr>\n",
       "      <th>1</th>\n",
       "      <td>A1</td>\n",
       "      <td>B1</td>\n",
       "    </tr>\n",
       "    <tr>\n",
       "      <th>2</th>\n",
       "      <td>A2</td>\n",
       "      <td>B2</td>\n",
       "    </tr>\n",
       "    <tr>\n",
       "      <th>3</th>\n",
       "      <td>A3</td>\n",
       "      <td>B3</td>\n",
       "    </tr>\n",
       "    <tr>\n",
       "      <th>4</th>\n",
       "      <td>A4</td>\n",
       "      <td>B4</td>\n",
       "    </tr>\n",
       "  </tbody>\n",
       "</table>\n",
       "</div>"
      ],
      "text/plain": [
       "    A   B\n",
       "1  A1  B1\n",
       "2  A2  B2\n",
       "3  A3  B3\n",
       "4  A4  B4"
      ]
     },
     "execution_count": 149,
     "metadata": {},
     "output_type": "execute_result"
    }
   ],
   "source": [
    "def make_df(cols, ind):\n",
    "    \"\"\"Quickly make a DataFrame\"\"\"\n",
    "    data = {c: [str(c) + str(i) for i in ind]\n",
    "            for c in cols}\n",
    "    return pd.DataFrame(data, ind)\n",
    "\n",
    "# example DataFrame\n",
    "df1 = make_df('AB', [1, 2])\n",
    "df2 = make_df('AB', [3, 4])\n",
    "pd.concat([df1, df2],axis = 0)\n",
    "df1.append(df2)"
   ]
  },
  {
   "cell_type": "code",
   "execution_count": 156,
   "id": "47c6715f",
   "metadata": {},
   "outputs": [
    {
     "data": {
      "text/plain": [
       "[[3, 6], [2, 14], [0, 30]]"
      ]
     },
     "execution_count": 156,
     "metadata": {},
     "output_type": "execute_result"
    }
   ],
   "source": [
    "# sort list\n",
    "intervals = [[0,30],[2,14],[3,6]]\n",
    "intervals.sort(key = lambda x:x[1],reverse = False)\n",
    "intervals"
   ]
  },
  {
   "cell_type": "code",
   "execution_count": 390,
   "id": "c468b918",
   "metadata": {},
   "outputs": [
    {
     "data": {
      "text/html": [
       "<div>\n",
       "<style scoped>\n",
       "    .dataframe tbody tr th:only-of-type {\n",
       "        vertical-align: middle;\n",
       "    }\n",
       "\n",
       "    .dataframe tbody tr th {\n",
       "        vertical-align: top;\n",
       "    }\n",
       "\n",
       "    .dataframe thead th {\n",
       "        text-align: right;\n",
       "    }\n",
       "</style>\n",
       "<table border=\"1\" class=\"dataframe\">\n",
       "  <thead>\n",
       "    <tr style=\"text-align: right;\">\n",
       "      <th></th>\n",
       "      <th>Open</th>\n",
       "      <th>High</th>\n",
       "      <th>Low</th>\n",
       "      <th>Close</th>\n",
       "      <th>Adj Close</th>\n",
       "      <th>Volume</th>\n",
       "    </tr>\n",
       "  </thead>\n",
       "  <tbody>\n",
       "    <tr>\n",
       "      <th>count</th>\n",
       "      <td>1259.000000</td>\n",
       "      <td>1259.000000</td>\n",
       "      <td>1259.000000</td>\n",
       "      <td>1259.000000</td>\n",
       "      <td>1259.000000</td>\n",
       "      <td>1.259000e+03</td>\n",
       "    </tr>\n",
       "    <tr>\n",
       "      <th>mean</th>\n",
       "      <td>64.594124</td>\n",
       "      <td>65.883341</td>\n",
       "      <td>63.272302</td>\n",
       "      <td>64.642060</td>\n",
       "      <td>64.642060</td>\n",
       "      <td>3.979012e+07</td>\n",
       "    </tr>\n",
       "    <tr>\n",
       "      <th>std</th>\n",
       "      <td>33.400757</td>\n",
       "      <td>34.457933</td>\n",
       "      <td>32.308613</td>\n",
       "      <td>33.518742</td>\n",
       "      <td>33.518742</td>\n",
       "      <td>2.928062e+07</td>\n",
       "    </tr>\n",
       "    <tr>\n",
       "      <th>min</th>\n",
       "      <td>28.464001</td>\n",
       "      <td>30.993999</td>\n",
       "      <td>28.209999</td>\n",
       "      <td>28.733999</td>\n",
       "      <td>28.733999</td>\n",
       "      <td>3.540000e+06</td>\n",
       "    </tr>\n",
       "    <tr>\n",
       "      <th>25%</th>\n",
       "      <td>45.861999</td>\n",
       "      <td>46.425002</td>\n",
       "      <td>45.063001</td>\n",
       "      <td>45.887001</td>\n",
       "      <td>45.887001</td>\n",
       "      <td>2.158075e+07</td>\n",
       "    </tr>\n",
       "    <tr>\n",
       "      <th>50%</th>\n",
       "      <td>56.765999</td>\n",
       "      <td>57.888000</td>\n",
       "      <td>55.776001</td>\n",
       "      <td>56.945999</td>\n",
       "      <td>56.945999</td>\n",
       "      <td>3.081300e+07</td>\n",
       "    </tr>\n",
       "    <tr>\n",
       "      <th>75%</th>\n",
       "      <td>67.962001</td>\n",
       "      <td>69.039001</td>\n",
       "      <td>66.736000</td>\n",
       "      <td>67.790001</td>\n",
       "      <td>67.790001</td>\n",
       "      <td>4.658400e+07</td>\n",
       "    </tr>\n",
       "    <tr>\n",
       "      <th>max</th>\n",
       "      <td>281.002014</td>\n",
       "      <td>285.899994</td>\n",
       "      <td>270.256012</td>\n",
       "      <td>278.855988</td>\n",
       "      <td>278.855988</td>\n",
       "      <td>3.046940e+08</td>\n",
       "    </tr>\n",
       "  </tbody>\n",
       "</table>\n",
       "</div>"
      ],
      "text/plain": [
       "              Open         High          Low        Close    Adj Close  \\\n",
       "count  1259.000000  1259.000000  1259.000000  1259.000000  1259.000000   \n",
       "mean     64.594124    65.883341    63.272302    64.642060    64.642060   \n",
       "std      33.400757    34.457933    32.308613    33.518742    33.518742   \n",
       "min      28.464001    30.993999    28.209999    28.733999    28.733999   \n",
       "25%      45.861999    46.425002    45.063001    45.887001    45.887001   \n",
       "50%      56.765999    57.888000    55.776001    56.945999    56.945999   \n",
       "75%      67.962001    69.039001    66.736000    67.790001    67.790001   \n",
       "max     281.002014   285.899994   270.256012   278.855988   278.855988   \n",
       "\n",
       "             Volume  \n",
       "count  1.259000e+03  \n",
       "mean   3.979012e+07  \n",
       "std    2.928062e+07  \n",
       "min    3.540000e+06  \n",
       "25%    2.158075e+07  \n",
       "50%    3.081300e+07  \n",
       "75%    4.658400e+07  \n",
       "max    3.046940e+08  "
      ]
     },
     "execution_count": 390,
     "metadata": {},
     "output_type": "execute_result"
    }
   ],
   "source": [
    "# Timeseries prediction\n",
    "df = pd.read_csv(\"data/TSLA.csv\")\n",
    "df.head(5)\n",
    "df.shape\n",
    "df.describe()"
   ]
  },
  {
   "cell_type": "code",
   "execution_count": 391,
   "id": "9d6a72f2",
   "metadata": {},
   "outputs": [
    {
     "data": {
      "image/png": "[encoded data removed]",
      "text/plain": [
       "<Figure size 720x720 with 1 Axes>"
      ]
     },
     "metadata": {},
     "output_type": "display_data"
    }
   ],
   "source": [
    "plt.figure()\n",
    "lag_plot(df['Open'], lag=5,c = \"b\")\n",
    "plt.title('TESLA Stock - Autocorrelation plot with lag = 3')\n",
    "plt.show()"
   ]
  },
  {
   "cell_type": "code",
   "execution_count": 392,
   "id": "d410004e",
   "metadata": {},
   "outputs": [
    {
     "data": {
      "image/png": "[encoded data removed]",
      "text/plain": [
       "<Figure size 1080x360 with 1 Axes>"
      ]
     },
     "metadata": {},
     "output_type": "display_data"
    }
   ],
   "source": [
    "fig, axes = plt.subplots(1,1,figsize = (15,5))\n",
    "axes.plot(df[\"Date\"], df[\"Close\"])\n",
    "\n",
    "plt.xticks(np.arange(0,1259, 200), df['Date'][0:1259:200])\n",
    "plt.title(\"TESLA stock price over time\")\n",
    "plt.xlabel(\"time\")\n",
    "plt.ylabel(\"price\")\n",
    "plt.show()"
   ]
  },
  {
   "cell_type": "code",
   "execution_count": 393,
   "id": "98d82146",
   "metadata": {},
   "outputs": [],
   "source": [
    "from statsmodels.tsa.seasonal import seasonal_decompose\n",
    "result = seasonal_decompose(df[\"Close\"],model = \"additive\",period = 365)\n",
    "plt.rcParams.update({\"figure.figsize\":(10,10)})\n",
    "#result.plot()"
   ]
  },
  {
   "cell_type": "code",
   "execution_count": 337,
   "id": "8e13eabd",
   "metadata": {},
   "outputs": [
    {
     "name": "stdout",
     "output_type": "stream",
     "text": [
      "ARIMA(0, 0, 0)- AIC:9480.759523738558\n",
      "ARIMA(0, 0, 1)- AIC:8080.932229158176\n",
      "ARIMA(0, 0, 2)- AIC:7338.789014804042\n",
      "ARIMA(0, 0, 3)- AIC:6887.2928570094455\n",
      "ARIMA(0, 0, 4)- AIC:6655.324941772993\n",
      "ARIMA(0, 0, 5)- AIC:6518.303646631043\n",
      "ARIMA(0, 1, 0)- AIC:5994.11866980955\n",
      "ARIMA(0, 1, 1)- AIC:5995.239230438709\n",
      "ARIMA(0, 1, 2)- AIC:5967.911054469145\n",
      "ARIMA(0, 1, 3)- AIC:5956.201895257891\n",
      "ARIMA(0, 1, 4)- AIC:5939.301369718773\n",
      "ARIMA(0, 1, 5)- AIC:5937.14618794652\n",
      "ARIMA(0, 2, 0)- AIC:6951.446248419582\n",
      "ARIMA(0, 2, 1)- AIC:5999.7018463492695\n",
      "ARIMA(0, 2, 2)- AIC:6000.872150894349\n",
      "ARIMA(0, 2, 3)- AIC:5973.9292928436935\n",
      "ARIMA(0, 2, 4)- AIC:5962.486878964914\n",
      "ARIMA(0, 2, 5)- AIC:5945.863594140304\n",
      "ARIMA(1, 0, 0)- AIC:5978.05412506812\n",
      "ARIMA(1, 0, 1)- AIC:5980.033591490092\n",
      "ARIMA(1, 0, 2)- AIC:5961.328350339211\n",
      "ARIMA(1, 0, 3)- AIC:5953.874676746631\n",
      "ARIMA(1, 0, 4)- AIC:5940.253105539405\n",
      "ARIMA(1, 0, 5)- AIC:5939.06396820116\n",
      "ARIMA(1, 1, 0)- AIC:5995.459108312449\n",
      "ARIMA(1, 1, 1)- AIC:5943.1873958139295\n",
      "ARIMA(1, 1, 2)- AIC:5933.341507927107\n",
      "ARIMA(1, 1, 3)- AIC:5935.3347092151125\n",
      "ARIMA(1, 1, 4)- AIC:5935.566954935531\n",
      "ARIMA(1, 2, 0)- AIC:6648.320316105972\n",
      "ARIMA(2, 0, 0)- AIC:5980.038161945755\n",
      "ARIMA(2, 0, 1)- AIC:5946.328539296835\n",
      "ARIMA(2, 0, 2)- AIC:5936.31156058437\n",
      "ARIMA(2, 0, 3)- AIC:5938.310992800015\n",
      "ARIMA(2, 0, 4)- AIC:5938.283899775049\n",
      "ARIMA(2, 1, 0)- AIC:5976.922471806434\n",
      "ARIMA(2, 1, 1)- AIC:5933.465063289994\n",
      "ARIMA(2, 1, 2)- AIC:5935.305400008703\n",
      "ARIMA(2, 1, 3)- AIC:5936.973726052769\n",
      "ARIMA(2, 1, 4)- AIC:5937.477070210989\n",
      "ARIMA(2, 1, 5)- AIC:5939.138240263194\n",
      "ARIMA(2, 2, 0)- AIC:6474.468279048991\n",
      "ARIMA(2, 2, 1)- AIC:5982.744002981127\n",
      "ARIMA(3, 0, 0)- AIC:5966.604537272049\n",
      "ARIMA(3, 0, 1)- AIC:5936.373166944692\n",
      "ARIMA(3, 0, 3)- AIC:5939.982876347764\n",
      "ARIMA(3, 0, 4)- AIC:5940.241002450153\n",
      "ARIMA(3, 1, 0)- AIC:5971.37230196814\n",
      "ARIMA(3, 1, 1)- AIC:5935.4257029883465\n",
      "ARIMA(3, 1, 2)- AIC:5936.775841944365\n",
      "ARIMA(3, 1, 3)- AIC:5938.284973321549\n",
      "ARIMA(3, 1, 4)- AIC:5927.895433592503\n",
      "ARIMA(3, 1, 5)- AIC:5929.792886000074\n",
      "ARIMA(3, 2, 0)- AIC:6400.547219841839\n",
      "ARIMA(4, 0, 0)- AIC:5963.539243741065\n",
      "ARIMA(4, 0, 1)- AIC:5938.359199373712\n",
      "ARIMA(4, 0, 2)- AIC:5939.748974540673\n",
      "ARIMA(4, 0, 4)- AIC:5930.755998975273\n",
      "ARIMA(4, 0, 5)- AIC:5932.705545736151\n",
      "ARIMA(4, 1, 0)- AIC:5954.681323905408\n",
      "ARIMA(4, 1, 1)- AIC:5936.227151249173\n",
      "ARIMA(4, 1, 2)- AIC:5937.620105979073\n",
      "ARIMA(4, 1, 3)- AIC:5928.931575361106\n",
      "ARIMA(4, 1, 4)- AIC:5929.800203865652\n",
      "ARIMA(4, 2, 0)- AIC:6322.992917469948\n",
      "ARIMA(4, 2, 1)- AIC:5960.8069297841375\n",
      "ARIMA(4, 2, 2)- AIC:5943.005856503693\n",
      "ARIMA(5, 0, 0)- AIC:5950.236680947995\n",
      "ARIMA(5, 0, 1)- AIC:5938.914265717098\n",
      "ARIMA(5, 0, 2)- AIC:5940.358263618662\n",
      "ARIMA(5, 0, 3)- AIC:5936.231311584598\n",
      "ARIMA(5, 0, 4)- AIC:5932.706714517488\n",
      "ARIMA(5, 1, 0)- AIC:5951.230910603101\n",
      "ARIMA(5, 1, 1)- AIC:5936.925786334088\n",
      "ARIMA(5, 1, 2)- AIC:5938.924604371121\n",
      "ARIMA(5, 1, 3)- AIC:5929.911281796358\n",
      "ARIMA(5, 1, 4)- AIC:5931.781180071799\n",
      "ARIMA(5, 1, 5)- AIC:5933.104166116829\n",
      "ARIMA(5, 2, 0)- AIC:6259.976241320355\n",
      "ARIMA(5, 2, 1)- AIC:5957.4542186139115\n",
      "ARIMA(5, 2, 2)- AIC:5943.7719935330615\n"
     ]
    }
   ],
   "source": [
    "import statsmodels.api as sm\n",
    "import itertools\n",
    "def evaluate_SARIMAX_aic(data, max_p,max_d,max_q,min_p=0,min_d=0,min_q=0):\n",
    "    p,d,q = range(min_p,max_p+1),range(min_d,max_d+1),range(min_q,max_q+1)\n",
    "    pdq = list(itertools.product(p,d,q))\n",
    "    seasonal_pdq = [(x[0],x[1],x[2],12) for x in pdq]\n",
    "\n",
    "    min_aic = float(\"inf\")\n",
    "    ans_pdq = (0,0,0)\n",
    "    ans_sea_pdq = (0,0,0)\n",
    "    for param in pdq:\n",
    "        for param_sea in seasonal_pdq:\n",
    "            mod = sm.tsa.statespace.SARIMAX(data,\n",
    "                                           order = param,\n",
    "                                           seasonal_order = param_sea,\n",
    "                                           enforce_stationarity = False,\n",
    "                                           enforce_invertibility = False)\n",
    "            result = mod.fit()\n",
    "            if result.aic < min_aic:\n",
    "                min_aic = result.aic\n",
    "                ans_pdq = param\n",
    "                ans_sea_pdq = param_sea\n",
    "            print(f\"SARIMA{param}x{param_sea} - AIC:{result.aic}\")\n",
    "            \n",
    "    return ans_pdq,ans_sea_pdq\n",
    "    \n",
    "def evaluate_ARIMA_aic(data, max_p,max_d,max_q,min_p=0,min_d=0,min_q=0):\n",
    "    p,d,q = range(min_p,max_p+1),range(min_d,max_d+1),range(min_q,max_q+1)\n",
    "    pdq = list(itertools.product(p,d,q))\n",
    "\n",
    "    min_aic = float(\"inf\")\n",
    "    ans_pdq = (0,0,0)\n",
    "\n",
    "    for param in pdq:\n",
    "        try:\n",
    "            mod = ARIMA(data,\n",
    "                       order = param\n",
    "                       )\n",
    "            result = mod.fit()\n",
    "\n",
    "            if result.aic < min_aic:\n",
    "                min_aic = result.aic\n",
    "                ans_pdq = param\n",
    "\n",
    "            print(f\"ARIMA{param}- AIC:{result.aic}\")\n",
    "        except:\n",
    "            continue\n",
    "            \n",
    "    return ans_pdq\n",
    "    \n",
    "param = evaluate_ARIMA_aic(data[\"T_mu\"],max_p = 5,max_d = 2,max_q = 5)\n",
    "        "
   ]
  },
  {
   "cell_type": "code",
   "execution_count": 394,
   "id": "1b72b269",
   "metadata": {},
   "outputs": [],
   "source": [
    "from statsmodels.graphics.tsaplots import plot_pacf,plot_acf\n",
    "#plot_pacf(data[\"T_mu\"], alpha=0.1, lags=20)"
   ]
  },
  {
   "cell_type": "code",
   "execution_count": 395,
   "id": "530b60b2",
   "metadata": {},
   "outputs": [],
   "source": [
    "pct = 0.9\n",
    "train_data, test_data = df[0:int(len(df)*pct)], df[int(len(df)*pct):]\n",
    "training_data = train_data['Close'].values\n",
    "testing_data = test_data['Close'].values\n"
   ]
  },
  {
   "cell_type": "code",
   "execution_count": 396,
   "id": "2933bd20",
   "metadata": {},
   "outputs": [],
   "source": [
    "mod = ARIMA(training_data,\n",
    "           order = param)\n",
    "\n",
    "results=mod.fit()"
   ]
  },
  {
   "cell_type": "code",
   "execution_count": 414,
   "id": "f5223d1b",
   "metadata": {},
   "outputs": [
    {
     "data": {
      "text/plain": [
       "0        51.830002\n",
       "1        52.431999\n",
       "2        53.130001\n",
       "3        52.627998\n",
       "4        53.335999\n",
       "           ...    \n",
       "1254    241.731995\n",
       "1255    274.316010\n",
       "1256    277.971985\n",
       "1257    273.175995\n",
       "1258    278.855988\n",
       "Name: Close, Length: 1259, dtype: float64"
      ]
     },
     "execution_count": 414,
     "metadata": {},
     "output_type": "execute_result"
    },
    {
     "data": {
      "image/png": "[encoded data removed]",
      "text/plain": [
       "<Figure size 864x576 with 1 Axes>"
      ]
     },
     "metadata": {},
     "output_type": "display_data"
    }
   ],
   "source": [
    "\n",
    "future = results.forecast(len(test_data))\n",
    "f = []\n",
    "test_data[\"forecast\"] = pd.array(future[0])\n",
    "\n",
    "new_data = train_data.append(test_data)\n",
    "new_data[['Close','forecast']].plot(figsize=(12,8))\n",
    "new_data[\"Close\"]"
   ]
  },
  {
   "cell_type": "code",
   "execution_count": null,
   "id": "7a67a9dd",
   "metadata": {},
   "outputs": [],
   "source": []
  },
  {
   "cell_type": "code",
   "execution_count": null,
   "id": "71bcee83",
   "metadata": {},
   "outputs": [],
   "source": [
    "results."
   ]
  },
  {
   "cell_type": "code",
   "execution_count": null,
   "id": "64ede851",
   "metadata": {},
   "outputs": [],
   "source": []
  },
  {
   "cell_type": "code",
   "execution_count": null,
   "id": "c22088ea",
   "metadata": {},
   "outputs": [],
   "source": []
  },
  {
   "cell_type": "code",
   "execution_count": null,
   "id": "b00a0d2b",
   "metadata": {},
   "outputs": [],
   "source": []
  },
  {
   "cell_type": "code",
   "execution_count": null,
   "id": "0dd621ca",
   "metadata": {},
   "outputs": [],
   "source": []
  },
  {
   "cell_type": "code",
   "execution_count": null,
   "id": "2e43c3bb",
   "metadata": {},
   "outputs": [],
   "source": []
  },
  {
   "cell_type": "code",
   "execution_count": null,
   "id": "b38f9dad",
   "metadata": {},
   "outputs": [],
   "source": []
  },
  {
   "cell_type": "code",
   "execution_count": 361,
   "id": "02be664e",
   "metadata": {},
   "outputs": [],
   "source": [
    "pct = 0.9\n",
    "\n",
    "train_data, test_data = df[0:int(len(df)*pct)], df[int(len(df)*pct):]\n",
    "training_data = train_data['Close'].values\n",
    "test_data = test_data['Close'].values\n",
    "\n",
    "history = training_data.tolist()\n",
    "\n",
    "model_predictions = []\n",
    "N_test_observations = len(test_data)"
   ]
  },
  {
   "cell_type": "code",
   "execution_count": 362,
   "id": "04478549",
   "metadata": {},
   "outputs": [
    {
     "data": {
      "text/html": [
       "<div>\n",
       "<style scoped>\n",
       "    .dataframe tbody tr th:only-of-type {\n",
       "        vertical-align: middle;\n",
       "    }\n",
       "\n",
       "    .dataframe tbody tr th {\n",
       "        vertical-align: top;\n",
       "    }\n",
       "\n",
       "    .dataframe thead th {\n",
       "        text-align: right;\n",
       "    }\n",
       "</style>\n",
       "<table border=\"1\" class=\"dataframe\">\n",
       "  <thead>\n",
       "    <tr style=\"text-align: right;\">\n",
       "      <th></th>\n",
       "      <th>datetime</th>\n",
       "      <th>T_mu</th>\n",
       "    </tr>\n",
       "  </thead>\n",
       "  <tbody>\n",
       "    <tr>\n",
       "      <th>0</th>\n",
       "      <td>2015-09-03</td>\n",
       "      <td>13.737500</td>\n",
       "    </tr>\n",
       "    <tr>\n",
       "      <th>1</th>\n",
       "      <td>2015-09-04</td>\n",
       "      <td>14.825000</td>\n",
       "    </tr>\n",
       "    <tr>\n",
       "      <th>2</th>\n",
       "      <td>2015-09-05</td>\n",
       "      <td>14.275000</td>\n",
       "    </tr>\n",
       "    <tr>\n",
       "      <th>3</th>\n",
       "      <td>2015-09-06</td>\n",
       "      <td>13.125000</td>\n",
       "    </tr>\n",
       "    <tr>\n",
       "      <th>4</th>\n",
       "      <td>2015-09-07</td>\n",
       "      <td>12.087500</td>\n",
       "    </tr>\n",
       "    <tr>\n",
       "      <th>...</th>\n",
       "      <td>...</td>\n",
       "      <td>...</td>\n",
       "    </tr>\n",
       "    <tr>\n",
       "      <th>1341</th>\n",
       "      <td>2019-05-17</td>\n",
       "      <td>13.783333</td>\n",
       "    </tr>\n",
       "    <tr>\n",
       "      <th>1342</th>\n",
       "      <td>2019-05-18</td>\n",
       "      <td>15.508333</td>\n",
       "    </tr>\n",
       "    <tr>\n",
       "      <th>1343</th>\n",
       "      <td>2019-05-19</td>\n",
       "      <td>16.595833</td>\n",
       "    </tr>\n",
       "    <tr>\n",
       "      <th>1344</th>\n",
       "      <td>2019-05-20</td>\n",
       "      <td>17.258333</td>\n",
       "    </tr>\n",
       "    <tr>\n",
       "      <th>1345</th>\n",
       "      <td>2019-05-21</td>\n",
       "      <td>18.433333</td>\n",
       "    </tr>\n",
       "  </tbody>\n",
       "</table>\n",
       "<p>1346 rows × 2 columns</p>\n",
       "</div>"
      ],
      "text/plain": [
       "       datetime       T_mu\n",
       "0    2015-09-03  13.737500\n",
       "1    2015-09-04  14.825000\n",
       "2    2015-09-05  14.275000\n",
       "3    2015-09-06  13.125000\n",
       "4    2015-09-07  12.087500\n",
       "...         ...        ...\n",
       "1341 2019-05-17  13.783333\n",
       "1342 2019-05-18  15.508333\n",
       "1343 2019-05-19  16.595833\n",
       "1344 2019-05-20  17.258333\n",
       "1345 2019-05-21  18.433333\n",
       "\n",
       "[1346 rows x 2 columns]"
      ]
     },
     "execution_count": 362,
     "metadata": {},
     "output_type": "execute_result"
    }
   ],
   "source": [
    "data = pd.read_csv(\"data/weather_data_test.csv\",parse_dates = ['datetime'],sep = \";\",decimal = \",\",infer_datetime_format = True)\n",
    "data = data[[\"datetime\",\"T_mu\"]]\n",
    "data"
   ]
  },
  {
   "cell_type": "code",
   "execution_count": 283,
   "id": "b252f8f0",
   "metadata": {},
   "outputs": [],
   "source": [
    "result = seasonal_decompose(data.T_mu,model = \"additive\",extrapolate_trend=\"freq\", freq= 365)\n",
    "plt.rcParams.update({\"figure.figsize\":(10,10)})\n",
    "#result.plot()"
   ]
  }
 ],
 "metadata": {
  "kernelspec": {
   "display_name": "Python 3",
   "language": "python",
   "name": "python3"
  },
  "language_info": {
   "codemirror_mode": {
    "name": "ipython",
    "version": 3
   },
   "file_extension": ".py",
   "mimetype": "text/x-python",
   "name": "python",
   "nbconvert_exporter": "python",
   "pygments_lexer": "ipython3",
   "version": "3.8.8"
  }
 },
 "nbformat": 4,
 "nbformat_minor": 5
}
